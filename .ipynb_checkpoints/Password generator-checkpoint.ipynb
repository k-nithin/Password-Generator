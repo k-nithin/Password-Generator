{
 "cells": [
  {
   "cell_type": "code",
   "execution_count": null,
   "metadata": {},
   "outputs": [],
   "source": [
    "import random as rn\n",
    "import string\n",
    "while True:\n",
    "    b= rn.choice(string.ascii_uppercase)\n",
    "    c= rn.choice(string.ascii_lowercase)\n",
    "    d= rn.choice(string.digits)\n",
    "    e= rn.choice(string.punctuation)\n",
    "    l = eval(input('Enter Password length /n '))\n",
    "    if l > 4:\n",
    "        for i in range(0,l-4):\n",
    "            a= rn.choice(string.printable) \n",
    "            print(a,end='')\n",
    "        print(b+c+d+e)\n",
    "    else:\n",
    "        print ('enter length greater than 4')\n",
    "        continue"
   ]
  },
  {
   "cell_type": "code",
   "execution_count": null,
   "metadata": {},
   "outputs": [],
   "source": []
  }
 ],
 "metadata": {
  "kernelspec": {
   "display_name": "Python 3",
   "language": "python",
   "name": "python3"
  },
  "language_info": {
   "codemirror_mode": {
    "name": "ipython",
    "version": 3
   },
   "file_extension": ".py",
   "mimetype": "text/x-python",
   "name": "python",
   "nbconvert_exporter": "python",
   "pygments_lexer": "ipython3",
   "version": "3.7.3"
  }
 },
 "nbformat": 4,
 "nbformat_minor": 2
}
